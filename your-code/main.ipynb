{
 "cells": [
  {
   "cell_type": "markdown",
   "id": "392405cd",
   "metadata": {},
   "source": [
    "# LAB | A/B Testing in Python"
   ]
  },
  {
   "cell_type": "markdown",
   "id": "14cf8128",
   "metadata": {},
   "source": [
    "### Challenge 1: 🚀 *Comparing Two Website Versions Using Hypothesis Testing*  "
   ]
  },
  {
   "cell_type": "markdown",
   "id": "1099b7e3",
   "metadata": {},
   "source": [
    "### **Objective**: \n",
    "Perform an A/B test to determine if a new webpage design (`Version B`) leads to a higher **click-through rate (CTR)** than the original (`Version A`).  "
   ]
  },
  {
   "cell_type": "markdown",
   "id": "57115b11",
   "metadata": {},
   "source": [
    "#### 📌 **Project Overview**  \n",
    "We’ll:  \n",
    "1. **Simulate** A/B test data (users & clicks).  \n",
    "2. **Analyze** the results using statistical tests.  \n",
    "3. **Conclude** whether `Version B` performs better.  \n",
    "\n"
   ]
  },
  {
   "cell_type": "markdown",
   "id": "b02d75f8",
   "metadata": {},
   "source": [
    "### **Problem Statement**  \n",
    "You are a data analyst at an e-commerce company. The team wants to test if a new webpage design (`Version B`) increases click-through rates (CTR) compared to the original (`Version A`).  \n",
    "\n",
    "### **Tasks**  \n",
    "1. **Simulate Data**:  \n",
    "   - Generate synthetic data for `Version A` (1000 visitors, 150 clicks) and `Version B` (1050 visitors, 180 clicks).  \n",
    "2. **Statistical Test**:  \n",
    "   - Perform a **Statistical Test** to compare CTRs.  \n",
    "3. **Interpretation**:  \n",
    "   - Determine if the difference is statistically significant (use α = 0.05).  \n",
    "4. **Visualization**:  \n",
    "   - Plot the CTRs for both versions using appropriate chart.  \n",
    "\n",
    "**Deliverables**:  \n",
    "- Code for simulation, testing, and visualization.  \n",
    "- Written conclusion (1–2 sentences) on whether `Version B` performs better.  "
   ]
  },
  {
   "cell_type": "markdown",
   "id": "c0fdd42c",
   "metadata": {},
   "source": [
    "#### 🛠 **Setup & Data Generation**  \n",
    "First, let’s create synthetic data for the experiment.  \n"
   ]
  },
  {
   "cell_type": "code",
   "execution_count": 1,
   "id": "fd3ceeb4",
   "metadata": {},
   "outputs": [],
   "source": [
    "### Import Libraries\n",
    "import numpy as np\n",
    "import pandas as pd\n",
    "from scipy import stats\n",
    "import matplotlib.pyplot as plt"
   ]
  },
  {
   "cell_type": "markdown",
   "id": "7471a52c",
   "metadata": {},
   "source": [
    "> Simulate User Data, We’ll assume:\n",
    "\n",
    "- Version A: 1000 visitors, 150 clicks.\n",
    "\n",
    "- Version B: 1050 visitors, 180 clicks."
   ]
  },
  {
   "cell_type": "code",
   "execution_count": 2,
   "id": "8f0b5265",
   "metadata": {},
   "outputs": [],
   "source": [
    "# Simulate data\n",
    "np.random.seed(42)\n",
    "visitors_a = 1000\n",
    "clicks_a = 150\n",
    "visitors_b = 1050\n",
    "clicks_b = 180"
   ]
  },
  {
   "cell_type": "code",
   "execution_count": null,
   "id": "d0525eff",
   "metadata": {},
   "outputs": [
    {
     "name": "stdout",
     "output_type": "stream",
     "text": [
      "CTR (Version A): 0.1500\n",
      "CTR (Version B): 0.1714\n"
     ]
    }
   ],
   "source": [
    "# TODO\n",
    "# Insert your code HERE\n",
    "#Click Through Rates (CTR)\n",
    "ctr_a = clicks_a / visitors_a\n",
    "ctr_b = clicks_b / visitors_b\n",
    "\n",
    "# Print CTR values\n",
    "print(f\"CTR (Version A): {ctr_a:.4f}\")\n",
    "print(f\"CTR (Version B): {ctr_b:.4f}\")"
   ]
  },
  {
   "cell_type": "markdown",
   "id": "b007477e",
   "metadata": {},
   "source": [
    "📊 Perform A/B Test\n",
    "We’ll use a Chi-Square Test to compare proportions.\n",
    "\n",
    "- Hypotheses"
   ]
  },
  {
   "cell_type": "code",
   "execution_count": null,
   "id": "7b10c736",
   "metadata": {},
   "outputs": [],
   "source": [
    "# Null Hypothesis (H₀): `There is no significant difference in CTRs between Version A and Version B.`.\n",
    "# Alternative Hypothesis `The CTR of Version B is significantly higher than Version A`.\n"
   ]
  },
  {
   "cell_type": "markdown",
   "id": "6f94acbe",
   "metadata": {},
   "source": [
    "\n",
    "- Run the Test"
   ]
  },
  {
   "cell_type": "code",
   "execution_count": 5,
   "id": "5b1fcda3",
   "metadata": {},
   "outputs": [
    {
     "name": "stdout",
     "output_type": "stream",
     "text": [
      "Chi-Square Statistic: 1.5863\n",
      "P-Value: 0.2079\n",
      "Degrees of Freedom: 1\n",
      "Expected Frequencies:\n",
      "[[160.97560976 839.02439024]\n",
      " [169.02439024 880.97560976]]\n"
     ]
    }
   ],
   "source": [
    "# TODO\n",
    "# Insert your code HERE\n",
    "#Contingency Table to perform Chi-Square Test\n",
    "\n",
    "contigency_table = [[clicks_a, visitors_a - clicks_a], [clicks_b, visitors_b - clicks_b]]\n",
    "\n",
    "#Chi-Square Test\n",
    "\n",
    "chi2, p_value, dof , expected = stats.chi2_contingency(contigency_table)\n",
    "\n",
    "# Output results\n",
    "print(f\"Chi-Square Statistic: {chi2:.4f}\")\n",
    "print(f\"P-Value: {p_value:.4f}\")\n",
    "print(f\"Degrees of Freedom: {dof}\")\n",
    "print(f\"Expected Frequencies:\\n{expected}\")"
   ]
  },
  {
   "cell_type": "markdown",
   "id": "c52bcea2",
   "metadata": {},
   "source": [
    "> Interpret Results"
   ]
  },
  {
   "cell_type": "code",
   "execution_count": 12,
   "id": "a2c7c16c",
   "metadata": {},
   "outputs": [
    {
     "name": "stdout",
     "output_type": "stream",
     "text": [
      "Result: Fail to reject the null hypothesis. No statisical significant difference in CTR.\n"
     ]
    }
   ],
   "source": [
    "# TODO\n",
    "# Insert your code HERE\n",
    "# Significance level\n",
    "alpha = 0.05  \n",
    "\n",
    "# Interpretation\n",
    "if p_value < alpha:\n",
    "    print(\"Result: Reject the null hypothesis. Version B has a statisical significant impact on CTR.\")\n",
    "else:\n",
    "    print(\"Result: Fail to reject the null hypothesis. No statisical significant difference in CTR.\")"
   ]
  },
  {
   "cell_type": "markdown",
   "id": "c925ed9f",
   "metadata": {},
   "source": [
    "📈 Visualization"
   ]
  },
  {
   "cell_type": "code",
   "execution_count": 11,
   "id": "94ca3b5a",
   "metadata": {},
   "outputs": [
    {
     "data": {
      "image/png": "[encoded data removed]",
      "text/plain": [
       "<Figure size 600x400 with 1 Axes>"
      ]
     },
     "metadata": {},
     "output_type": "display_data"
    }
   ],
   "source": [
    "# TODO\n",
    "# Insert your code HERE\n",
    "# Labels and values\n",
    "versions = ['Version A', 'Version B']\n",
    "ctrs = [ctr_a, ctr_b]\n",
    "\n",
    "#Bar chart for visualization\n",
    "plt.figure(figsize =(6, 4))\n",
    "plt.bar(versions, ctrs, color =['blue', 'orange'])\n",
    "plt.xlabel(\"Webpage Version\")\n",
    "plt.ylabel(\"Click-Through Rate (CTR)\")\n",
    "plt.title(\"CTR Comparison: Version A vs. Version B\")\n",
    "# Display values on bars\n",
    "for i, v in enumerate(ctrs):\n",
    "    plt.text(i, v + 0.0001, f\"{v:.4f}\", ha='center', fontsize=12, fontweight='bold')\n",
    "plt.show()"
   ]
  },
  {
   "cell_type": "markdown",
   "id": "afdb44b2",
   "metadata": {},
   "source": [
    "## Challenge 2: 🚀 A/B Testing Challenge with Real Data"
   ]
  },
  {
   "cell_type": "markdown",
   "id": "67bd5560",
   "metadata": {},
   "source": [
    "#### **Objective**:  \n",
    "1. Analyze **real A/B test data** (from Kaggle) to compare conversion rates.  \n",
    "2. Use **bootstrapping** to estimate confidence intervals.  \n",
    "\n",
    "---\n",
    "\n",
    "#### 📌 **Project Overview**  \n",
    "We’ll:  \n",
    "1. **Load real A/B test data** (user sessions and conversions).  \n",
    "2. **Compare conversion rates** using statistical tests.  \n",
    "3. **Apply bootstrapping** to validate results.  \n",
    "\n"
   ]
  },
  {
   "cell_type": "markdown",
   "id": "ec536e52",
   "metadata": {},
   "source": [
    "### **Problem Statement**  \n",
    "Use the [Kaggle Marketing A/B Test dataset](https://www.kaggle.com/datasets/faviovaz/marketing-ab-testing) to analyze if a new marketing campaign (`Group B`) improves conversion rates over the old campaign (`Group A`).  \n",
    "\n",
    "### **Tasks**  \n",
    "1. **Data Preparation**:  \n",
    "   - Load the dataset and explore key metrics (sample sizes, conversion rates).  \n",
    "2. **Hypothesis Testing**:  \n",
    "   - Perform a **Statistical Test** to compare conversions between groups.  \n",
    "3. **Bootstrapping**:  \n",
    "   - Implement bootstrapping (`n=1000` resamples) to estimate 95% confidence intervals for conversion rates.  \n",
    "4. **Visualization**:  \n",
    "   -Compare conversion rates for both groups.  \n",
    "\n",
    "**Deliverables**:  \n",
    "- Code for analysis and bootstrapping.  \n",
    "- Answers:  \n",
    "  - P-value and statistical conclusion.  \n",
    "  - Confidence intervals for both groups.  "
   ]
  },
  {
   "cell_type": "markdown",
   "id": "812e92c7",
   "metadata": {},
   "source": [
    "#### 🛠 **Setup & Data Loading**  \n"
   ]
  },
  {
   "cell_type": "code",
   "execution_count": 47,
   "id": "a855dda5",
   "metadata": {},
   "outputs": [],
   "source": [
    "### Import Libraries\n",
    "import numpy as np\n",
    "import pandas as pd\n",
    "from statsmodels.stats.proportion import proportions_ztest\n",
    "import seaborn as sns\n",
    "import matplotlib.pyplot as plt"
   ]
  },
  {
   "cell_type": "markdown",
   "id": "55a40acd",
   "metadata": {},
   "source": [
    "> Load Open-Source Dataset\n",
    "We’ll use the [\"A/B Test Results\"](https://www.kaggle.com/datasets/faviovaz/marketing-ab-testing) dataset from Kaggle."
   ]
  },
  {
   "cell_type": "code",
   "execution_count": 98,
   "id": "1824729f",
   "metadata": {},
   "outputs": [],
   "source": [
    "# Load data (ensure CSV is in your working directory)\n",
    "data = pd.read_csv(\"./data/marketing_AB.csv\")  # Download from Kaggle first!"
   ]
  },
  {
   "cell_type": "code",
   "execution_count": 99,
   "id": "b3ecedb0",
   "metadata": {},
   "outputs": [
    {
     "data": {
      "text/html": [
       "<div>\n",
       "<style scoped>\n",
       "    .dataframe tbody tr th:only-of-type {\n",
       "        vertical-align: middle;\n",
       "    }\n",
       "\n",
       "    .dataframe tbody tr th {\n",
       "        vertical-align: top;\n",
       "    }\n",
       "\n",
       "    .dataframe thead th {\n",
       "        text-align: right;\n",
       "    }\n",
       "</style>\n",
       "<table border=\"1\" class=\"dataframe\">\n",
       "  <thead>\n",
       "    <tr style=\"text-align: right;\">\n",
       "      <th></th>\n",
       "      <th>Unnamed: 0</th>\n",
       "      <th>user id</th>\n",
       "      <th>test group</th>\n",
       "      <th>converted</th>\n",
       "      <th>total ads</th>\n",
       "      <th>most ads day</th>\n",
       "      <th>most ads hour</th>\n",
       "    </tr>\n",
       "  </thead>\n",
       "  <tbody>\n",
       "    <tr>\n",
       "      <th>0</th>\n",
       "      <td>0</td>\n",
       "      <td>1069124</td>\n",
       "      <td>ad</td>\n",
       "      <td>False</td>\n",
       "      <td>130</td>\n",
       "      <td>Monday</td>\n",
       "      <td>20</td>\n",
       "    </tr>\n",
       "    <tr>\n",
       "      <th>1</th>\n",
       "      <td>1</td>\n",
       "      <td>1119715</td>\n",
       "      <td>ad</td>\n",
       "      <td>False</td>\n",
       "      <td>93</td>\n",
       "      <td>Tuesday</td>\n",
       "      <td>22</td>\n",
       "    </tr>\n",
       "    <tr>\n",
       "      <th>2</th>\n",
       "      <td>2</td>\n",
       "      <td>1144181</td>\n",
       "      <td>ad</td>\n",
       "      <td>False</td>\n",
       "      <td>21</td>\n",
       "      <td>Tuesday</td>\n",
       "      <td>18</td>\n",
       "    </tr>\n",
       "    <tr>\n",
       "      <th>3</th>\n",
       "      <td>3</td>\n",
       "      <td>1435133</td>\n",
       "      <td>ad</td>\n",
       "      <td>False</td>\n",
       "      <td>355</td>\n",
       "      <td>Tuesday</td>\n",
       "      <td>10</td>\n",
       "    </tr>\n",
       "    <tr>\n",
       "      <th>4</th>\n",
       "      <td>4</td>\n",
       "      <td>1015700</td>\n",
       "      <td>ad</td>\n",
       "      <td>False</td>\n",
       "      <td>276</td>\n",
       "      <td>Friday</td>\n",
       "      <td>14</td>\n",
       "    </tr>\n",
       "  </tbody>\n",
       "</table>\n",
       "</div>"
      ],
      "text/plain": [
       "   Unnamed: 0  user id test group  converted  total ads most ads day  \\\n",
       "0           0  1069124         ad      False        130       Monday   \n",
       "1           1  1119715         ad      False         93      Tuesday   \n",
       "2           2  1144181         ad      False         21      Tuesday   \n",
       "3           3  1435133         ad      False        355      Tuesday   \n",
       "4           4  1015700         ad      False        276       Friday   \n",
       "\n",
       "   most ads hour  \n",
       "0             20  \n",
       "1             22  \n",
       "2             18  \n",
       "3             10  \n",
       "4             14  "
      ]
     },
     "metadata": {},
     "output_type": "display_data"
    },
    {
     "name": "stdout",
     "output_type": "stream",
     "text": [
      "<class 'pandas.core.frame.DataFrame'>\n",
      "RangeIndex: 588101 entries, 0 to 588100\n",
      "Data columns (total 7 columns):\n",
      " #   Column         Non-Null Count   Dtype \n",
      "---  ------         --------------   ----- \n",
      " 0   Unnamed: 0     588101 non-null  int64 \n",
      " 1   user id        588101 non-null  int64 \n",
      " 2   test group     588101 non-null  object\n",
      " 3   converted      588101 non-null  bool  \n",
      " 4   total ads      588101 non-null  int64 \n",
      " 5   most ads day   588101 non-null  object\n",
      " 6   most ads hour  588101 non-null  int64 \n",
      "dtypes: bool(1), int64(4), object(2)\n",
      "memory usage: 27.5+ MB\n"
     ]
    }
   ],
   "source": [
    "# Quick exploration of the dataset\n",
    "display(data.head())  \n",
    "data.info()  \n"
   ]
  },
  {
   "cell_type": "code",
   "execution_count": 100,
   "id": "55bf5e34",
   "metadata": {},
   "outputs": [],
   "source": [
    "# Dropping unnecessary index column\n",
    "data.drop(columns=[\"Unnamed: 0\"], inplace=True)\n",
    "# Standardizing column names \n",
    "data.columns = data.columns.str.replace(\" \", \"_\")\n"
   ]
  },
  {
   "cell_type": "code",
   "execution_count": 101,
   "id": "f4190834",
   "metadata": {},
   "outputs": [
    {
     "data": {
      "text/html": [
       "<div>\n",
       "<style scoped>\n",
       "    .dataframe tbody tr th:only-of-type {\n",
       "        vertical-align: middle;\n",
       "    }\n",
       "\n",
       "    .dataframe tbody tr th {\n",
       "        vertical-align: top;\n",
       "    }\n",
       "\n",
       "    .dataframe thead th {\n",
       "        text-align: right;\n",
       "    }\n",
       "</style>\n",
       "<table border=\"1\" class=\"dataframe\">\n",
       "  <thead>\n",
       "    <tr style=\"text-align: right;\">\n",
       "      <th></th>\n",
       "      <th>user_id</th>\n",
       "      <th>test_group</th>\n",
       "      <th>converted</th>\n",
       "      <th>total_ads</th>\n",
       "      <th>most_ads_day</th>\n",
       "      <th>most_ads_hour</th>\n",
       "    </tr>\n",
       "  </thead>\n",
       "  <tbody>\n",
       "    <tr>\n",
       "      <th>0</th>\n",
       "      <td>1069124</td>\n",
       "      <td>ad</td>\n",
       "      <td>False</td>\n",
       "      <td>130</td>\n",
       "      <td>Monday</td>\n",
       "      <td>20</td>\n",
       "    </tr>\n",
       "    <tr>\n",
       "      <th>1</th>\n",
       "      <td>1119715</td>\n",
       "      <td>ad</td>\n",
       "      <td>False</td>\n",
       "      <td>93</td>\n",
       "      <td>Tuesday</td>\n",
       "      <td>22</td>\n",
       "    </tr>\n",
       "    <tr>\n",
       "      <th>2</th>\n",
       "      <td>1144181</td>\n",
       "      <td>ad</td>\n",
       "      <td>False</td>\n",
       "      <td>21</td>\n",
       "      <td>Tuesday</td>\n",
       "      <td>18</td>\n",
       "    </tr>\n",
       "    <tr>\n",
       "      <th>3</th>\n",
       "      <td>1435133</td>\n",
       "      <td>ad</td>\n",
       "      <td>False</td>\n",
       "      <td>355</td>\n",
       "      <td>Tuesday</td>\n",
       "      <td>10</td>\n",
       "    </tr>\n",
       "    <tr>\n",
       "      <th>4</th>\n",
       "      <td>1015700</td>\n",
       "      <td>ad</td>\n",
       "      <td>False</td>\n",
       "      <td>276</td>\n",
       "      <td>Friday</td>\n",
       "      <td>14</td>\n",
       "    </tr>\n",
       "  </tbody>\n",
       "</table>\n",
       "</div>"
      ],
      "text/plain": [
       "   user_id test_group  converted  total_ads most_ads_day  most_ads_hour\n",
       "0  1069124         ad      False        130       Monday             20\n",
       "1  1119715         ad      False         93      Tuesday             22\n",
       "2  1144181         ad      False         21      Tuesday             18\n",
       "3  1435133         ad      False        355      Tuesday             10\n",
       "4  1015700         ad      False        276       Friday             14"
      ]
     },
     "metadata": {},
     "output_type": "display_data"
    }
   ],
   "source": [
    "display(data.head()) "
   ]
  },
  {
   "cell_type": "code",
   "execution_count": 102,
   "id": "74571512",
   "metadata": {},
   "outputs": [
    {
     "data": {
      "text/plain": [
       "test_group\n",
       "ad     564577\n",
       "psa     23524\n",
       "Name: count, dtype: int64"
      ]
     },
     "metadata": {},
     "output_type": "display_data"
    },
    {
     "data": {
      "text/plain": [
       "converted\n",
       "False    573258\n",
       "True      14843\n",
       "Name: count, dtype: int64"
      ]
     },
     "execution_count": 102,
     "metadata": {},
     "output_type": "execute_result"
    }
   ],
   "source": [
    "# Checking sample sizes for A/B groups\n",
    "display(data[\"test_group\"].value_counts()) \n",
    "\n",
    "# Checking overall conversion rates\n",
    "data[\"converted\"].value_counts() "
   ]
  },
  {
   "cell_type": "markdown",
   "id": "16057220",
   "metadata": {},
   "source": [
    "📊 Part 1: Traditional A/B Test\n",
    "> Calculate Conversion Rates"
   ]
  },
  {
   "cell_type": "code",
   "execution_count": 103,
   "id": "56fab67b",
   "metadata": {},
   "outputs": [
    {
     "name": "stdout",
     "output_type": "stream",
     "text": [
      "Conversion Rate (Group A): 0.0255\n",
      "Conversion Rate (Group B): 0.0179\n"
     ]
    }
   ],
   "source": [
    "# TODO\n",
    "# Insert your code HERE\n",
    "# Conversion Rate= Converted Users /Total Users\n",
    "# Conversion rates for each group\n",
    "conversion_rates = data.groupby('test_group')['converted'].mean()\n",
    "\n",
    "# Display conversion rates\n",
    "print(f\"Conversion Rate (Group A): {conversion_rates['ad']:.4f}\")\n",
    "print(f\"Conversion Rate (Group B): {conversion_rates['psa']:.4f}\")"
   ]
  },
  {
   "cell_type": "code",
   "execution_count": 104,
   "id": "816b4081",
   "metadata": {},
   "outputs": [],
   "source": [
    "# Hypotheses\n",
    "# Null Hypothesis (H₀): There is no significant difference in conversion rates between Group A (Ad) and Group B (PSA).\n",
    "# Alternative Hypothesis (H₁): The conversion rate of Group A (Ad) is significantly higher than Group B (PSA)."
   ]
  },
  {
   "cell_type": "markdown",
   "id": "a1321446",
   "metadata": {},
   "source": [
    "> Statistical Test"
   ]
  },
  {
   "cell_type": "code",
   "execution_count": 105,
   "id": "decf60de",
   "metadata": {},
   "outputs": [
    {
     "name": "stdout",
     "output_type": "stream",
     "text": [
      "Z-Statistic: 7.3700781265454145\n",
      "P-Value: 8.526403580779863e-14\n"
     ]
    }
   ],
   "source": [
    "# TODO\n",
    "# Insert your code HERE\n",
    "# Since we are comparing conversion rates between two independent groups (Ad vs. PSA campaign), a two proportion Z-test is a good choice.\n",
    "# It directly compares proportions (conversion rates) between two groups.\n",
    "# It calculates whether the difference is large enough to be statistically significant.\n",
    "\n",
    "# Defining the success counts (converted users) and total users per group\n",
    "converted_counts = data.groupby(\"test_group\")[\"converted\"].sum()  # Total converted users\n",
    "total_counts = data[\"test_group\"].value_counts()  # Total users per group\n",
    "\n",
    "# Two-Proportion Z-Test\n",
    "z_stat, p_value = proportions_ztest(count=converted_counts, nobs=total_counts, alternative=\"larger\")\n",
    "\n",
    "# Output results\n",
    "print(f\"Z-Statistic: {z_stat}\")\n",
    "print(f\"P-Value: {p_value}\")"
   ]
  },
  {
   "cell_type": "code",
   "execution_count": 106,
   "id": "fd2353ea",
   "metadata": {},
   "outputs": [
    {
     "name": "stdout",
     "output_type": "stream",
     "text": [
      "Result: Reject the null hypothesis. The Ad campaign has a significantly higher conversion rate than the PSA campaign.\n"
     ]
    }
   ],
   "source": [
    "# Significance level\n",
    "alpha = 0.05  \n",
    "\n",
    "# Interpretation\n",
    "if p_value < alpha:\n",
    "    print(\"Result: Reject the null hypothesis. The Ad campaign has a significantly higher conversion rate than the PSA campaign.\")\n",
    "else:\n",
    "    print(\"Result: Fail to reject the null hypothesis. No significant difference in conversion rates.\")"
   ]
  },
  {
   "cell_type": "code",
   "execution_count": null,
   "id": "a6766455",
   "metadata": {},
   "outputs": [],
   "source": [
    "# For the Business:\n",
    "# Running Ad campaigns might be more effective than PSA campaigns for driving conversions."
   ]
  },
  {
   "cell_type": "markdown",
   "id": "7dd2ccd0",
   "metadata": {},
   "source": [
    "#### EXTRA 📈 Part 2: Bootstrapping Challenge\n",
    "**Why Bootstrapping?**\n",
    " - Bootstrapping helps estimate confidence intervals for conversion rates by resampling data.\n",
    "\n",
    "> Bootstrap Function"
   ]
  },
  {
   "cell_type": "code",
   "execution_count": 107,
   "id": "1ad5d36a",
   "metadata": {},
   "outputs": [
    {
     "name": "stdout",
     "output_type": "stream",
     "text": [
      "Bootstrapped Conversion Rate (Ad Group): 0.0256 (95% CI: [0.0251, 0.0260])\n",
      "Bootstrapped Conversion Rate (PSA Group): 0.0178 (95% CI: [0.0163, 0.0196])\n"
     ]
    }
   ],
   "source": [
    "# TODO\n",
    "# Insert your code HERE\n",
    "# Defining Bootstrap Function:\n",
    "def bootstrap_conversion_rate (data, group, n_resamples= 1000):\n",
    "    boot_means = []\n",
    "    group_data = data[data['test_group'] == group]['converted']\n",
    "\n",
    "    for _ in range(n_resamples):\n",
    "        sample = np.random.choice(group_data, size=len(group_data), replace=True)\n",
    "        boot_means.append(sample.mean())\n",
    "\n",
    "    # 95% Confidence Interval\n",
    "    lower_bound = np.percentile(boot_means, 2.5)\n",
    "    upper_bound = np.percentile(boot_means, 97.5)\n",
    "\n",
    "    return np.mean(boot_means), lower_bound, upper_bound\n",
    "\n",
    "# Apply Boostraping for Group A and Group B\n",
    "boot_a_mean, boot_a_lower, boot_a_upper = bootstrap_conversion_rate(data, \"ad\")\n",
    "boot_b_mean, boot_b_lower, boot_b_upper = bootstrap_conversion_rate(data, \"psa\")\n",
    "\n",
    "# Results\n",
    "print(f\"Bootstrapped Conversion Rate (Ad Group): {boot_a_mean:.4f} (95% CI: [{boot_a_lower:.4f}, {boot_a_upper:.4f}])\")\n",
    "print(f\"Bootstrapped Conversion Rate (PSA Group): {boot_b_mean:.4f} (95% CI: [{boot_b_lower:.4f}, {boot_b_upper:.4f}])\")"
   ]
  },
  {
   "cell_type": "markdown",
   "id": "e9015c19",
   "metadata": {},
   "source": [
    ">Visualize Results"
   ]
  },
  {
   "cell_type": "code",
   "execution_count": 108,
   "id": "8a737b3f",
   "metadata": {},
   "outputs": [
    {
     "data": {
      "image/png": "[encoded data removed]",
      "text/plain": [
       "<Figure size 800x500 with 1 Axes>"
      ]
     },
     "metadata": {},
     "output_type": "display_data"
    }
   ],
   "source": [
    "# TODO\n",
    "# Insert your code HERE\n",
    "# Generating bootstrap samples for visualization\n",
    "n_resamples = 1000\n",
    "boot_a_means = [np.random.choice(data[data[\"test_group\"] == \"ad\"][\"converted\"], size=len(data[data[\"test_group\"] == \"ad\"]), \n",
    "                                 replace=True).mean() for _ in range(n_resamples)]\n",
    "boot_b_means = [np.random.choice(data[data[\"test_group\"] == \"psa\"][\"converted\"], size=len(data[data[\"test_group\"] == \"psa\"]), \n",
    "                                 replace=True).mean() for _ in range(n_resamples)]\n",
    "\n",
    "# Histogram for bootstrapped conversion rates\n",
    "plt.figure(figsize=(8, 5))\n",
    "sns.histplot(boot_a_means, color=\"blue\", bins=30, kde=True, alpha=0.7, label=\"Ad Group\")\n",
    "sns.histplot(boot_b_means, color=\"orange\", bins=30, kde=True, alpha=0.5, label=\"PSA Group\")\n",
    "\n",
    "# labels and title\n",
    "plt.xlabel(\"Bootstrapped Conversion Rate\")\n",
    "plt.ylabel(\"Frequency\")\n",
    "plt.title(\"Bootstrapped Conversion Rate Distribution (Ad vs. PSA)\")\n",
    "plt.legend()\n",
    "plt.show()"
   ]
  },
  {
   "cell_type": "code",
   "execution_count": null,
   "id": "6d6dee12",
   "metadata": {},
   "outputs": [],
   "source": [
    "#The histogram shows the distribution of bootstrapped conversion rates for the Ad (blue) and PSA (orange) groups. \n",
    "# The Ad group consistently has higher conversion rates centered around 2.6%, while the PSA group remains lower at around 1.8%. \n",
    "# Both distributions highlight variability but confirm the Ad campaign's superiority. Even with resampling, the Ad campaign outperforms PSA in every scenario."
   ]
  },
  {
   "cell_type": "markdown",
   "id": "f4e2aec7",
   "metadata": {},
   "source": [
    "## (Bonus) Challenge 3: 🎮 Advanced A/B Testing Challenge: Cookie Cats Retention Analysis "
   ]
  },
  {
   "cell_type": "markdown",
   "id": "aa0a8423",
   "metadata": {},
   "source": [
    "#### **Objective**:  \n",
    "1. Analyze player **retention rates** in the `cookie_cats` mobile game A/B test.  \n",
    "2. Implement **sequential testing** (to avoid peeking at results prematurely).  \n",
    "3. Conduct **power analysis** to determine optimal sample size.  \n",
    "\n",
    "### **Problem Statement**  \n",
    "Analyze the [Cookie Cats dataset](https://www.kaggle.com/datasets/yufengsui/mobile-games-ab-testing) to determine if moving the game’s first gate from level 30 (`gate_30`) to level 40 (`gate_40`) affects player retention.  \n",
    "\n",
    "### **Tasks**  \n",
    "1. **Retention Analysis**:  \n",
    "   - Compare **1-day retention rates** between `gate_30` and `gate_40` using a Z-test.  \n",
    "2. **Sequential Testing**:  \n",
    "   - Simulate checking results at intervals (every 500 users) to avoid \"peeking bias.\"  \n",
    "3. **Power Analysis**:  \n",
    "   - Calculate the required sample size to detect a 2% difference in retention (α = 0.05, power = 0.8).  \n",
    "4. **Optional**:  \n",
    "   - Repeat analysis for **7-day retention**.  \n",
    "\n",
    "**Deliverables**:  \n",
    "- Code for retention comparison, sequential testing, and power analysis.  \n",
    "- Written summary:  \n",
    "  - Does `gate_40` significantly impact retention?  \n",
    "  - How does sequential testing affect decision-making?  "
   ]
  },
  {
   "cell_type": "markdown",
   "id": "167d7506",
   "metadata": {},
   "source": [
    "\n",
    "\n",
    "### 🛠 **Setup & Data Loading**  \n"
   ]
  },
  {
   "cell_type": "code",
   "execution_count": null,
   "id": "204f33c6",
   "metadata": {},
   "outputs": [],
   "source": [
    "# Import Libraries"
   ]
  },
  {
   "cell_type": "code",
   "execution_count": 56,
   "id": "9bf078ee",
   "metadata": {},
   "outputs": [],
   "source": [
    "# Load dataset \n",
    "data = pd.read_csv(\"./data/cookie_cats.csv\")  # Columns: userid, version, sum_gamerounds, retention_1, retention_7"
   ]
  },
  {
   "cell_type": "code",
   "execution_count": 61,
   "id": "b5a8d166",
   "metadata": {},
   "outputs": [
    {
     "data": {
      "text/html": [
       "<div>\n",
       "<style scoped>\n",
       "    .dataframe tbody tr th:only-of-type {\n",
       "        vertical-align: middle;\n",
       "    }\n",
       "\n",
       "    .dataframe tbody tr th {\n",
       "        vertical-align: top;\n",
       "    }\n",
       "\n",
       "    .dataframe thead th {\n",
       "        text-align: right;\n",
       "    }\n",
       "</style>\n",
       "<table border=\"1\" class=\"dataframe\">\n",
       "  <thead>\n",
       "    <tr style=\"text-align: right;\">\n",
       "      <th></th>\n",
       "      <th>userid</th>\n",
       "      <th>version</th>\n",
       "      <th>sum_gamerounds</th>\n",
       "      <th>retention_1</th>\n",
       "      <th>retention_7</th>\n",
       "    </tr>\n",
       "  </thead>\n",
       "  <tbody>\n",
       "    <tr>\n",
       "      <th>0</th>\n",
       "      <td>116</td>\n",
       "      <td>gate_30</td>\n",
       "      <td>3</td>\n",
       "      <td>False</td>\n",
       "      <td>False</td>\n",
       "    </tr>\n",
       "    <tr>\n",
       "      <th>1</th>\n",
       "      <td>337</td>\n",
       "      <td>gate_30</td>\n",
       "      <td>38</td>\n",
       "      <td>True</td>\n",
       "      <td>False</td>\n",
       "    </tr>\n",
       "    <tr>\n",
       "      <th>2</th>\n",
       "      <td>377</td>\n",
       "      <td>gate_40</td>\n",
       "      <td>165</td>\n",
       "      <td>True</td>\n",
       "      <td>False</td>\n",
       "    </tr>\n",
       "    <tr>\n",
       "      <th>3</th>\n",
       "      <td>483</td>\n",
       "      <td>gate_40</td>\n",
       "      <td>1</td>\n",
       "      <td>False</td>\n",
       "      <td>False</td>\n",
       "    </tr>\n",
       "    <tr>\n",
       "      <th>4</th>\n",
       "      <td>488</td>\n",
       "      <td>gate_40</td>\n",
       "      <td>179</td>\n",
       "      <td>True</td>\n",
       "      <td>True</td>\n",
       "    </tr>\n",
       "  </tbody>\n",
       "</table>\n",
       "</div>"
      ],
      "text/plain": [
       "   userid  version  sum_gamerounds  retention_1  retention_7\n",
       "0     116  gate_30               3        False        False\n",
       "1     337  gate_30              38         True        False\n",
       "2     377  gate_40             165         True        False\n",
       "3     483  gate_40               1        False        False\n",
       "4     488  gate_40             179         True         True"
      ]
     },
     "metadata": {},
     "output_type": "display_data"
    },
    {
     "name": "stdout",
     "output_type": "stream",
     "text": [
      "<class 'pandas.core.frame.DataFrame'>\n",
      "RangeIndex: 90189 entries, 0 to 90188\n",
      "Data columns (total 5 columns):\n",
      " #   Column          Non-Null Count  Dtype \n",
      "---  ------          --------------  ----- \n",
      " 0   userid          90189 non-null  int64 \n",
      " 1   version         90189 non-null  object\n",
      " 2   sum_gamerounds  90189 non-null  int64 \n",
      " 3   retention_1     90189 non-null  bool  \n",
      " 4   retention_7     90189 non-null  bool  \n",
      "dtypes: bool(2), int64(2), object(1)\n",
      "memory usage: 2.2+ MB\n"
     ]
    }
   ],
   "source": [
    "# Quick exploration of dataset\n",
    "display(data.head())  # Show first few rows\n",
    "data.info() # Check structure\n"
   ]
  },
  {
   "cell_type": "code",
   "execution_count": 60,
   "id": "45f2c65f",
   "metadata": {},
   "outputs": [
    {
     "data": {
      "text/plain": [
       "version\n",
       "gate_40    45489\n",
       "gate_30    44700\n",
       "Name: count, dtype: int64"
      ]
     },
     "metadata": {},
     "output_type": "display_data"
    },
    {
     "data": {
      "text/html": [
       "<div>\n",
       "<style scoped>\n",
       "    .dataframe tbody tr th:only-of-type {\n",
       "        vertical-align: middle;\n",
       "    }\n",
       "\n",
       "    .dataframe tbody tr th {\n",
       "        vertical-align: top;\n",
       "    }\n",
       "\n",
       "    .dataframe thead th {\n",
       "        text-align: right;\n",
       "    }\n",
       "</style>\n",
       "<table border=\"1\" class=\"dataframe\">\n",
       "  <thead>\n",
       "    <tr style=\"text-align: right;\">\n",
       "      <th></th>\n",
       "      <th>retention_1</th>\n",
       "      <th>retention_7</th>\n",
       "    </tr>\n",
       "  </thead>\n",
       "  <tbody>\n",
       "    <tr>\n",
       "      <th>count</th>\n",
       "      <td>90189</td>\n",
       "      <td>90189</td>\n",
       "    </tr>\n",
       "    <tr>\n",
       "      <th>unique</th>\n",
       "      <td>2</td>\n",
       "      <td>2</td>\n",
       "    </tr>\n",
       "    <tr>\n",
       "      <th>top</th>\n",
       "      <td>False</td>\n",
       "      <td>False</td>\n",
       "    </tr>\n",
       "    <tr>\n",
       "      <th>freq</th>\n",
       "      <td>50036</td>\n",
       "      <td>73408</td>\n",
       "    </tr>\n",
       "  </tbody>\n",
       "</table>\n",
       "</div>"
      ],
      "text/plain": [
       "       retention_1 retention_7\n",
       "count        90189       90189\n",
       "unique           2           2\n",
       "top          False       False\n",
       "freq         50036       73408"
      ]
     },
     "execution_count": 60,
     "metadata": {},
     "output_type": "execute_result"
    }
   ],
   "source": [
    "# Sample sizes for gate_30 and gate_40\n",
    "display(data[\"version\"].value_counts())  \n",
    "# Overview of retention rates\n",
    "data[[\"retention_1\", \"retention_7\"]].describe()"
   ]
  },
  {
   "cell_type": "markdown",
   "id": "2ea7a8be",
   "metadata": {},
   "source": []
  },
  {
   "cell_type": "markdown",
   "id": "edcbe2d5",
   "metadata": {},
   "source": [
    "📊 Part 1: Retention Rate Analysis\n",
    "> Compare 1-Day Retention"
   ]
  },
  {
   "cell_type": "code",
   "execution_count": 69,
   "id": "25577893",
   "metadata": {},
   "outputs": [
    {
     "name": "stdout",
     "output_type": "stream",
     "text": [
      "1-Day Retention Rate (Gate 30): 0.4482\n",
      "1-Day Retention Rate (Gate 40): 0.4423\n"
     ]
    }
   ],
   "source": [
    "# TODO\n",
    "# Insert your code HERE\n",
    "# Compare retention rates 1-Day\n",
    "retention_1_rates = data.groupby(\"version\")[\"retention_1\"].mean()\n",
    "\n",
    "# Display retention rates\n",
    "print(f\"1-Day Retention Rate (Gate 30): {retention_1_rates['gate_30']:.4f}\")\n",
    "print(f\"1-Day Retention Rate (Gate 40): {retention_1_rates['gate_40']:.4f}\")"
   ]
  },
  {
   "cell_type": "markdown",
   "id": "d60c1de3",
   "metadata": {},
   "source": [
    "> Statistical Test"
   ]
  },
  {
   "cell_type": "code",
   "execution_count": 71,
   "id": "119db7c3",
   "metadata": {},
   "outputs": [
    {
     "name": "stdout",
     "output_type": "stream",
     "text": [
      "Z-Statistic (1-Day Retention): -2.9231\n",
      "P-Value (1-Day Retention): 0.9983\n"
     ]
    }
   ],
   "source": [
    "# TODO\n",
    "# Insert your code HERE\n",
    "# Defining success counts (players retained) and total players per group\n",
    "retained_counts_1 = data.groupby(\"version\")[\"retention_1\"].sum()  # Total retained players\n",
    "total_counts_1 = data[\"version\"].value_counts()  # Total players per group\n",
    "\n",
    "# Two-Proportion Z-Test\n",
    "z_stat_1, p_value_1 = proportions_ztest(count=retained_counts_1, nobs=total_counts_1, alternative=\"larger\")\n",
    "\n",
    "# Output results\n",
    "print(f\"Z-Statistic (1-Day Retention): {z_stat_1:.4f}\")\n",
    "print(f\"P-Value (1-Day Retention): {p_value_1:.4f}\")"
   ]
  },
  {
   "cell_type": "code",
   "execution_count": 82,
   "id": "1ce07c97",
   "metadata": {},
   "outputs": [
    {
     "name": "stdout",
     "output_type": "stream",
     "text": [
      "Result: Fail to reject the null hypothesis. No strong evidence that changing the gate affects 1-Day retention.\n"
     ]
    }
   ],
   "source": [
    "# Significance level\n",
    "alpha = 0.05  \n",
    "\n",
    "# Interpretation\n",
    "if p_value_1 < alpha:\n",
    "    print(\"Result: Reject the null hypothesis. Changing the gate significantly impacts 1-Day retention.\")\n",
    "else:\n",
    "    print(\"Result: Fail to reject the null hypothesis. No strong evidence that changing the gate affects 1-Day retention.\")"
   ]
  },
  {
   "cell_type": "code",
   "execution_count": null,
   "id": "a6a71a83",
   "metadata": {},
   "outputs": [],
   "source": [
    "# Moving the gate to level 40 doesn’t drastically affect 1-day retention rates, suggesting players likely continue their normal play patterns."
   ]
  },
  {
   "cell_type": "markdown",
   "id": "8a7636e6",
   "metadata": {},
   "source": [
    " Compare 7-Day Retention"
   ]
  },
  {
   "cell_type": "code",
   "execution_count": null,
   "id": "ed591b97",
   "metadata": {},
   "outputs": [
    {
     "name": "stdout",
     "output_type": "stream",
     "text": [
      "7-Day Retention Rate (Gate 30): 0.1902\n",
      "7-Day Retention Rate (Gate 40): 0.1820\n"
     ]
    }
   ],
   "source": [
    "# TODO\n",
    "# Insert your code HERE\n",
    "# Compare retention rates 7-Day\n",
    "retention_7_rates = data.groupby(\"version\")[\"retention_7\"].mean()\n",
    "\n",
    "# Display retention rates\n",
    "print(f\"7-Day Retention Rate (Gate 30): {retention_7_rates['gate_30']:.4f}\")\n",
    "print(f\"7-Day Retention Rate (Gate 40): {retention_7_rates['gate_40']:.4f}\")"
   ]
  },
  {
   "cell_type": "markdown",
   "id": "d27aff0f",
   "metadata": {},
   "source": [
    "> Statistical Test"
   ]
  },
  {
   "cell_type": "code",
   "execution_count": 80,
   "id": "96ab7923",
   "metadata": {},
   "outputs": [
    {
     "name": "stdout",
     "output_type": "stream",
     "text": [
      "Z-Statistic (7-Day Retention): 0.6520\n",
      "P-Value (7-Day Retention): 0.2572\n"
     ]
    }
   ],
   "source": [
    "# TODO\n",
    "# Insert your code HERE\n",
    "# Defining success counts (players retained) and total players per group\n",
    "retained_counts_7 = data.groupby(\"version\")[\"retention_7\"].sum()  # Total retained players\n",
    "total_counts_7 = data[\"version\"].value_counts()  # Total players per group\n",
    "\n",
    "# Two-Proportion Z-Test\n",
    "z_stat_7, p_value_7 = proportions_ztest(count=retained_counts_7, nobs=total_counts_7, alternative=\"larger\")\n",
    "\n",
    "# Output results\n",
    "print(f\"Z-Statistic (7-Day Retention): {z_stat_7:.4f}\")\n",
    "print(f\"P-Value (7-Day Retention): {p_value_7:.4f}\")"
   ]
  },
  {
   "cell_type": "code",
   "execution_count": 81,
   "id": "bec31683",
   "metadata": {},
   "outputs": [
    {
     "name": "stdout",
     "output_type": "stream",
     "text": [
      "Result: Fail to reject the null hypothesis. No strong evidence that changing the gate affects 7-Day retention.\n"
     ]
    }
   ],
   "source": [
    "# Significance level\n",
    "alpha = 0.05  \n",
    "\n",
    "# Interpretation\n",
    "if p_value_7 < alpha:\n",
    "    print(\"Result: Reject the null hypothesis. Changing the gate significantly impacts 7-Day retention.\")\n",
    "else:\n",
    "    print(\"Result: Fail to reject the null hypothesis. No strong evidence that changing the gate affects 7-Day retention.\")"
   ]
  },
  {
   "cell_type": "code",
   "execution_count": null,
   "id": "a12d0ad9",
   "metadata": {},
   "outputs": [],
   "source": [
    "# Gate placement does not significantly impact long-term player retention. \n",
    "# Players should continue engaging at similar rates regardless of whether the first gate is at level 30 or level 40."
   ]
  },
  {
   "cell_type": "markdown",
   "id": "8033db00",
   "metadata": {},
   "source": []
  },
  {
   "cell_type": "markdown",
   "id": "4aad973a",
   "metadata": {},
   "source": [
    "📈 Part 2: Sequential Testing\n",
    ">  Why Sequential Testing?\n",
    "\n",
    "- Avoids \"peeking\" at results prematurely by checking at intervals."
   ]
  },
  {
   "cell_type": "code",
   "execution_count": null,
   "id": "04f99261",
   "metadata": {},
   "outputs": [
    {
     "data": {
      "text/html": [
       "<div>\n",
       "<style scoped>\n",
       "    .dataframe tbody tr th:only-of-type {\n",
       "        vertical-align: middle;\n",
       "    }\n",
       "\n",
       "    .dataframe tbody tr th {\n",
       "        vertical-align: top;\n",
       "    }\n",
       "\n",
       "    .dataframe thead th {\n",
       "        text-align: right;\n",
       "    }\n",
       "</style>\n",
       "<table border=\"1\" class=\"dataframe\">\n",
       "  <thead>\n",
       "    <tr style=\"text-align: right;\">\n",
       "      <th></th>\n",
       "      <th>Sample_Size</th>\n",
       "      <th>Retention_30</th>\n",
       "      <th>Retention_40</th>\n",
       "      <th>Z-Statistic</th>\n",
       "      <th>P-Value</th>\n",
       "    </tr>\n",
       "  </thead>\n",
       "  <tbody>\n",
       "    <tr>\n",
       "      <th>0</th>\n",
       "      <td>500</td>\n",
       "      <td>0.493827</td>\n",
       "      <td>0.408560</td>\n",
       "      <td>0.782379</td>\n",
       "      <td>0.216996</td>\n",
       "    </tr>\n",
       "    <tr>\n",
       "      <th>1</th>\n",
       "      <td>1000</td>\n",
       "      <td>0.448077</td>\n",
       "      <td>0.427083</td>\n",
       "      <td>0.668504</td>\n",
       "      <td>0.251906</td>\n",
       "    </tr>\n",
       "    <tr>\n",
       "      <th>2</th>\n",
       "      <td>1500</td>\n",
       "      <td>0.450955</td>\n",
       "      <td>0.448951</td>\n",
       "      <td>0.077935</td>\n",
       "      <td>0.468940</td>\n",
       "    </tr>\n",
       "    <tr>\n",
       "      <th>3</th>\n",
       "      <td>2000</td>\n",
       "      <td>0.449704</td>\n",
       "      <td>0.455375</td>\n",
       "      <td>-0.254747</td>\n",
       "      <td>0.600541</td>\n",
       "    </tr>\n",
       "    <tr>\n",
       "      <th>4</th>\n",
       "      <td>2500</td>\n",
       "      <td>0.455847</td>\n",
       "      <td>0.453741</td>\n",
       "      <td>0.105747</td>\n",
       "      <td>0.457892</td>\n",
       "    </tr>\n",
       "  </tbody>\n",
       "</table>\n",
       "</div>"
      ],
      "text/plain": [
       "   Sample_Size  Retention_30  Retention_40  Z-Statistic   P-Value\n",
       "0          500      0.493827      0.408560     0.782379  0.216996\n",
       "1         1000      0.448077      0.427083     0.668504  0.251906\n",
       "2         1500      0.450955      0.448951     0.077935  0.468940\n",
       "3         2000      0.449704      0.455375    -0.254747  0.600541\n",
       "4         2500      0.455847      0.453741     0.105747  0.457892"
      ]
     },
     "metadata": {},
     "output_type": "display_data"
    }
   ],
   "source": [
    "# TODO\n",
    "# Insert your code HERE\n",
    "#We will analyze retention rates every 500 users to see if the results remain stable throughout.(1-Day)\n",
    "# Sorting data to simulate incoming user registrations\n",
    "data_sorted = data.sample(frac=1, random_state=42)  # Shuffle the data randomly\n",
    "\n",
    "# The batch size for sequential testing\n",
    "batch_size = 500\n",
    "\n",
    "# Storing results for analysis\n",
    "sequential_results = []\n",
    "\n",
    "# Looping through the dataset in increments of 500 users\n",
    "for i in range(batch_size, len(data_sorted), batch_size):\n",
    "\n",
    "    # Get subset of data\n",
    "    batch_data = data_sorted.iloc[:i] #Select current batch\n",
    "\n",
    "    # Retention rates for batch\n",
    "    retention_rates_batch = batch_data.groupby(\"version\")[\"retention_1\"].mean()\n",
    "\n",
    "    # Z-Test for this batch\n",
    "    retained_counts_batch = batch_data.groupby(\"version\")[\"retention_1\"].sum()\n",
    "    total_counts_batch = batch_data[\"version\"].value_counts()\n",
    "    z_stat_batch, p_value_batch = proportions_ztest(count=retained_counts_batch, nobs=total_counts_batch, alternative=\"larger\")\n",
    "\n",
    "    # Store results\n",
    "    sequential_results.append((i, retention_rates_batch[\"gate_30\"], retention_rates_batch[\"gate_40\"], z_stat_batch, p_value_batch))\n",
    "\n",
    "# Convert results to DataFrame for visualization\n",
    "sequential_df = pd.DataFrame(sequential_results, columns=[\"Sample_Size\", \"Retention_30\", \"Retention_40\", \"Z-Statistic\", \"P-Value\"])\n",
    "\n",
    "# Display the first few rows\n",
    "display(sequential_df.head())"
   ]
  },
  {
   "cell_type": "code",
   "execution_count": null,
   "id": "1c94a685",
   "metadata": {},
   "outputs": [
    {
     "data": {
      "image/png": "[encoded data removed]",
      "text/plain": [
       "<Figure size 800x500 with 1 Axes>"
      ]
     },
     "metadata": {},
     "output_type": "display_data"
    }
   ],
   "source": [
    "#Line Chart of Sequential Results 1-Day\n",
    "# Plot of Retention rates for both groups\n",
    "plt.figure(figsize=(8, 5))\n",
    "plt.plot(sequential_df[\"Sample_Size\"], sequential_df[\"Retention_30\"], label=\"Gate 30\", color=\"blue\")\n",
    "plt.plot(sequential_df[\"Sample_Size\"], sequential_df[\"Retention_40\"], label=\"Gate 40\", color=\"orange\")\n",
    "\n",
    "# Labels and title\n",
    "plt.xlabel(\"Sample Size\")\n",
    "plt.ylabel(\"Retention Rate\")\n",
    "plt.title(\"Sequential Testing - 1-Day Retention Trends\")\n",
    "plt.legend()\n",
    "plt.show()"
   ]
  },
  {
   "cell_type": "code",
   "execution_count": null,
   "id": "d845cd66",
   "metadata": {},
   "outputs": [],
   "source": [
    "# The Line plot shows Retention rates stabilize as the sample size grows. \n",
    "# Gate 30 had a higher initial retention rate but converged with Gate 40 as more data was collected. \n",
    "# No statistically significant difference between Gate 30 and Gate 40 for 1-day retention."
   ]
  },
  {
   "cell_type": "code",
   "execution_count": null,
   "id": "01d7abc6",
   "metadata": {},
   "outputs": [
    {
     "data": {
      "text/html": [
       "<div>\n",
       "<style scoped>\n",
       "    .dataframe tbody tr th:only-of-type {\n",
       "        vertical-align: middle;\n",
       "    }\n",
       "\n",
       "    .dataframe tbody tr th {\n",
       "        vertical-align: top;\n",
       "    }\n",
       "\n",
       "    .dataframe thead th {\n",
       "        text-align: right;\n",
       "    }\n",
       "</style>\n",
       "<table border=\"1\" class=\"dataframe\">\n",
       "  <thead>\n",
       "    <tr style=\"text-align: right;\">\n",
       "      <th></th>\n",
       "      <th>Sample_Size</th>\n",
       "      <th>Retention_30</th>\n",
       "      <th>Retention_40</th>\n",
       "      <th>Z-Statistic</th>\n",
       "      <th>P-Value</th>\n",
       "    </tr>\n",
       "  </thead>\n",
       "  <tbody>\n",
       "    <tr>\n",
       "      <th>0</th>\n",
       "      <td>500</td>\n",
       "      <td>0.172840</td>\n",
       "      <td>0.190661</td>\n",
       "      <td>-1.107096</td>\n",
       "      <td>0.865874</td>\n",
       "    </tr>\n",
       "    <tr>\n",
       "      <th>1</th>\n",
       "      <td>1000</td>\n",
       "      <td>0.165385</td>\n",
       "      <td>0.197917</td>\n",
       "      <td>-1.334912</td>\n",
       "      <td>0.909047</td>\n",
       "    </tr>\n",
       "    <tr>\n",
       "      <th>2</th>\n",
       "      <td>1500</td>\n",
       "      <td>0.173248</td>\n",
       "      <td>0.200000</td>\n",
       "      <td>-1.329913</td>\n",
       "      <td>0.908227</td>\n",
       "    </tr>\n",
       "    <tr>\n",
       "      <th>3</th>\n",
       "      <td>2000</td>\n",
       "      <td>0.173570</td>\n",
       "      <td>0.200811</td>\n",
       "      <td>-1.562086</td>\n",
       "      <td>0.940866</td>\n",
       "    </tr>\n",
       "    <tr>\n",
       "      <th>4</th>\n",
       "      <td>2500</td>\n",
       "      <td>0.175815</td>\n",
       "      <td>0.193081</td>\n",
       "      <td>-1.113016</td>\n",
       "      <td>0.867149</td>\n",
       "    </tr>\n",
       "  </tbody>\n",
       "</table>\n",
       "</div>"
      ],
      "text/plain": [
       "   Sample_Size  Retention_30  Retention_40  Z-Statistic   P-Value\n",
       "0          500      0.172840      0.190661    -1.107096  0.865874\n",
       "1         1000      0.165385      0.197917    -1.334912  0.909047\n",
       "2         1500      0.173248      0.200000    -1.329913  0.908227\n",
       "3         2000      0.173570      0.200811    -1.562086  0.940866\n",
       "4         2500      0.175815      0.193081    -1.113016  0.867149"
      ]
     },
     "metadata": {},
     "output_type": "display_data"
    }
   ],
   "source": [
    "# TODO\n",
    "# Insert your code HERE\n",
    "#We will analyze retention rates every 500 users to see if the results remain stable throughout (7-Day)\n",
    "# Sorting data to simulate incoming user registrations\n",
    "data_sorted = data.sample(frac=1, random_state=42)  # Shuffle the data randomly\n",
    "\n",
    "# The batch size for sequential testing\n",
    "batch_size = 500\n",
    "\n",
    "# Storing results for analysis\n",
    "sequential_results_7 = []\n",
    "\n",
    "# Looping through the dataset in increments of 500 users\n",
    "for i in range(batch_size, len(data_sorted), batch_size):\n",
    "\n",
    "    # Get subset of data\n",
    "    batch_data = data_sorted.iloc[:i] # Select current batch\n",
    "\n",
    "    # Retention rates for batch\n",
    "    retention_rates_batch_7 = batch_data.groupby(\"version\")[\"retention_7\"].mean()\n",
    "\n",
    "    # Z-Test for this batch\n",
    "    retained_counts_batch_7 = batch_data.groupby(\"version\")[\"retention_7\"].sum()\n",
    "    total_counts_batch_7 = batch_data[\"version\"].value_counts()\n",
    "    z_stat_batch_7, p_value_batch_7 = proportions_ztest(count=retained_counts_batch_7, nobs=total_counts_batch_7, alternative=\"larger\")\n",
    "\n",
    "    # Store results\n",
    "    sequential_results_7.append((i, retention_rates_batch_7[\"gate_30\"], retention_rates_batch_7[\"gate_40\"], z_stat_batch_7, p_value_batch_7))\n",
    "\n",
    "# Convert results to DataFrame for visualization\n",
    "sequential_df_7 = pd.DataFrame(sequential_results_7, columns=[\"Sample_Size\", \"Retention_30\", \"Retention_40\", \"Z-Statistic\", \"P-Value\"])\n",
    "\n",
    "# Display the first few rows\n",
    "display(sequential_df_7.head())"
   ]
  },
  {
   "cell_type": "code",
   "execution_count": 87,
   "id": "5e1b7a36",
   "metadata": {},
   "outputs": [
    {
     "data": {
      "image/png": "[encoded data removed]",
      "text/plain": [
       "<Figure size 800x500 with 1 Axes>"
      ]
     },
     "metadata": {},
     "output_type": "display_data"
    }
   ],
   "source": [
    "#Line Chart of Sequential Results 7-Day\n",
    "# Plot of Retention rates for both groups\n",
    "plt.figure(figsize=(8, 5))\n",
    "plt.plot(sequential_df_7[\"Sample_Size\"], sequential_df_7[\"Retention_30\"], label=\"Gate 30\", color=\"blue\")\n",
    "plt.plot(sequential_df_7[\"Sample_Size\"], sequential_df_7[\"Retention_40\"], label=\"Gate 40\", color=\"orange\")\n",
    "\n",
    "# Labels and title\n",
    "plt.xlabel(\"Sample Size\")\n",
    "plt.ylabel(\"Retention Rate\")\n",
    "plt.title(\"Sequential Testing - 7-Day Retention Trends\")\n",
    "plt.legend()\n",
    "plt.show()"
   ]
  },
  {
   "cell_type": "code",
   "execution_count": null,
   "id": "34cc3a97",
   "metadata": {},
   "outputs": [],
   "source": [
    "# The graph shows how 7-day retention rates change as more players are analyzed over time. \n",
    "# Initially, Gate 40 had slightly higher retention than Gate 30, but as more users were added, the difference became less distinct. \n",
    "# The trend stabilizes, indicating no major long-term impact of changing the gate placement."
   ]
  },
  {
   "cell_type": "markdown",
   "id": "44abb17b",
   "metadata": {},
   "source": [
    "⚡ Part 3: Power Analysis\n",
    ">  Determine Required Sample Size"
   ]
  },
  {
   "cell_type": "code",
   "execution_count": 92,
   "id": "7906bad8",
   "metadata": {},
   "outputs": [
    {
     "name": "stdout",
     "output_type": "stream",
     "text": [
      "Required Sample Size per group,(1-Day Retention): 39245\n",
      "Total Sample Size (both groups),(1-Day Retention): 78490\n"
     ]
    }
   ],
   "source": [
    "# TODO\n",
    "# Insert your code HERE\n",
    "from statsmodels.stats.power import TTestIndPower\n",
    "\n",
    "#For this analysis, we assume: Significance level (α) = 0.05 → Standard threshold for statistical significance. \n",
    "# Power = 0.8 (80%) → Probability of correctly detecting a true difference if one exists. \n",
    "# Expected retention difference = 2% (0.02) → Minimum change we want to detect.\n",
    "\n",
    "# Parameters for 1-Day\n",
    "effect_size_1 = 0.02  #Minimum detectable difference in 1-day retention rates\n",
    "alpha = 0.05  # Significance level\n",
    "power = 0.8  # Statistical power\n",
    "\n",
    "# Power analysis\n",
    "analysis_1= TTestIndPower()\n",
    "required_sample_size_1 = analysis_1.solve_power(effect_size=effect_size_1, alpha=alpha, power=power, alternative='two-sided')\n",
    "\n",
    "# Output results\n",
    "print(f\"Required Sample Size per group,(1-Day Retention): {int(required_sample_size_1)}\")\n",
    "print(f\"Total Sample Size (both groups),(1-Day Retention): {int(required_sample_size_1 * 2)}\")"
   ]
  },
  {
   "cell_type": "code",
   "execution_count": 94,
   "id": "9e616313",
   "metadata": {},
   "outputs": [
    {
     "name": "stdout",
     "output_type": "stream",
     "text": [
      "Required Sample Size per group,(7-Day Retention): 39245\n",
      "Total Sample Size (both groups),(7-Day Retention): 78490\n"
     ]
    }
   ],
   "source": [
    "# Parameters for 7-Day\n",
    "effect_size_7 = 0.02  #Minimum detectable difference in 7-day retention rates\n",
    "alpha = 0.05  # Significance level\n",
    "power = 0.8  # Statistical power\n",
    "\n",
    "# Power analysis\n",
    "analysis_7= TTestIndPower()\n",
    "required_sample_size_7 = analysis_7.solve_power(effect_size=effect_size_7, alpha=alpha, power=power, alternative='two-sided')\n",
    "\n",
    "# Output results\n",
    "print(f\"Required Sample Size per group,(7-Day Retention): {int(required_sample_size_7)}\")\n",
    "print(f\"Total Sample Size (both groups),(7-Day Retention): {int(required_sample_size_7 * 2)}\")"
   ]
  },
  {
   "cell_type": "code",
   "execution_count": null,
   "id": "a43bd8d3",
   "metadata": {},
   "outputs": [],
   "source": [
    "# Understanding the Power Analysis:\n",
    "# 1-Large Sample Size required\n",
    "    # To detect a 2% difference in retention, we need 39,245 players per group (total 78,490 players).\n",
    "    # This means small changes in retention rates require lots of data to confirm statistical significance.\n",
    "\n",
    "# 2- Same Sample Size for Both Timeframes\n",
    "    # The required sample size for 1-day and 7-day retention is identical.\n",
    "    # This suggests that the variance and expected difference in retention rates are similar in both cases.\n",
    "\n",
    "# 3- Practical Implications\n",
    "    # If the game has fewer than 78,490 players in the experiment, the study may lack statistical power to detect small changes.\n",
    "    # A smaller effect size (e.g., 1% instead of 2%) would require an even larger sample size.\n",
    "    # Before running the experiment, game developers must check if they have enough players to get reliable results.\n",
    "  "
   ]
  },
  {
   "cell_type": "code",
   "execution_count": null,
   "id": "6515f163",
   "metadata": {},
   "outputs": [],
   "source": [
    "# Final Thoughts\n",
    "# 1. Does gate_40 significantly impact retention?\n",
    "    # 1-Day Retention:\n",
    "        # Gate 30 had a slightly higher retention rate than Gate 40.\n",
    "        # However, the p-value was far above 0.05, meaning no statistically significant difference was found.\n",
    "    # 7-Day Retention:\n",
    "        # Gate 40 had a slight advantage initially but the gap narrowed as more players were analyzed.\n",
    "        # Again, statistical tests showed no strong evidence that moving the gate affected long-term engagement.\n",
    "# Conclusion: \n",
    "# Gate placement does not significantly impact player retention,\n",
    "# - meaning players adapt to game progression regardless of whether the first gate is encountered at level 30 or level 40.\n",
    "\n",
    "# 2. How Does Sequential Testing Affect Decision-Making?\n",
    "# Early Fluctuations:\n",
    "    # Initial batches showed some variability in retention rates, but as more data was gathered, the differences stabilized.\n",
    "# Avoiding Peeking Bias:\n",
    "    # Checking results too early could lead to false conclusions, as retention rates fluctuate in small samples.\n",
    "# Final Outcome:\n",
    "    # As sample size grew, retention rates converged, confirming that gate placement was not a strong factor in player behavior.\n",
    "# Conclusion: Sequential testing helps monitor results over time but must be used cautiously to avoid premature decisions based on early data."
   ]
  },
  {
   "cell_type": "markdown",
   "id": "f62d1be7",
   "metadata": {},
   "source": [
    "Enjoy & Happy A/B Testing :) ......!"
   ]
  },
  {
   "cell_type": "markdown",
   "id": "43332a5a",
   "metadata": {},
   "source": []
  },
  {
   "cell_type": "markdown",
   "id": "9bbc500f",
   "metadata": {},
   "source": []
  }
 ],
 "metadata": {
  "kernelspec": {
   "display_name": "base",
   "language": "python",
   "name": "python3"
  },
  "language_info": {
   "codemirror_mode": {
    "name": "ipython",
    "version": 3
   },
   "file_extension": ".py",
   "mimetype": "text/x-python",
   "name": "python",
   "nbconvert_exporter": "python",
   "pygments_lexer": "ipython3",
   "version": "3.12.7"
  }
 },
 "nbformat": 4,
 "nbformat_minor": 5
}

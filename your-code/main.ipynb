{
 "cells": [
  {
   "cell_type": "markdown",
   "id": "392405cd",
   "metadata": {},
   "source": [
    "# LAB | A/B Testing in Python"
   ]
  },
  {
   "cell_type": "markdown",
   "id": "14cf8128",
   "metadata": {},
   "source": [
    "### Challenge 1: 🚀 *Comparing Two Website Versions Using Hypothesis Testing*  "
   ]
  },
  {
   "cell_type": "markdown",
   "id": "1099b7e3",
   "metadata": {},
   "source": [
    "### **Objective**: \n",
    "Perform an A/B test to determine if a new webpage design (`Version B`) leads to a higher **click-through rate (CTR)** than the original (`Version A`).  "
   ]
  },
  {
   "cell_type": "markdown",
   "id": "57115b11",
   "metadata": {},
   "source": [
    "#### 📌 **Project Overview**  \n",
    "We’ll:  \n",
    "1. **Simulate** A/B test data (users & clicks).  \n",
    "2. **Analyze** the results using statistical tests.  \n",
    "3. **Conclude** whether `Version B` performs better.  \n",
    "\n"
   ]
  },
  {
   "cell_type": "markdown",
   "id": "b02d75f8",
   "metadata": {},
   "source": [
    "### **Problem Statement**  \n",
    "You are a data analyst at an e-commerce company. The team wants to test if a new webpage design (`Version B`) increases click-through rates (CTR) compared to the original (`Version A`).  \n",
    "\n",
    "### **Tasks**  \n",
    "1. **Simulate Data**:  \n",
    "   - Generate synthetic data for `Version A` (1000 visitors, 150 clicks) and `Version B` (1050 visitors, 180 clicks).  \n",
    "2. **Statistical Test**:  \n",
    "   - Perform a **Statistical Test** to compare CTRs.  \n",
    "3. **Interpretation**:  \n",
    "   - Determine if the difference is statistically significant (use α = 0.05).  \n",
    "4. **Visualization**:  \n",
    "   - Plot the CTRs for both versions using appropriate chart.  \n",
    "\n",
    "**Deliverables**:  \n",
    "- Code for simulation, testing, and visualization.  \n",
    "- Written conclusion (1–2 sentences) on whether `Version B` performs better.  "
   ]
  },
  {
   "cell_type": "markdown",
   "id": "c0fdd42c",
   "metadata": {},
   "source": [
    "#### 🛠 **Setup & Data Generation**  \n",
    "First, let’s create synthetic data for the experiment.  \n"
   ]
  },
  {
   "cell_type": "code",
   "execution_count": null,
   "id": "fd3ceeb4",
   "metadata": {},
   "outputs": [],
   "source": [
    "### Import Libraries\n",
    "import numpy as np\n",
    "import pandas as pd\n",
    "from scipy import stats\n",
    "import matplotlib.pyplot as plt"
   ]
  },
  {
   "cell_type": "markdown",
   "id": "7471a52c",
   "metadata": {},
   "source": [
    "> Simulate User Data, We’ll assume:\n",
    "\n",
    "- Version A: 1000 visitors, 150 clicks.\n",
    "\n",
    "- Version B: 1050 visitors, 180 clicks."
   ]
  },
  {
   "cell_type": "code",
   "execution_count": null,
   "id": "8f0b5265",
   "metadata": {},
   "outputs": [],
   "source": [
    "# Simulate data\n",
    "np.random.seed(42)\n",
    "visitors_a = 1000\n",
    "clicks_a = 150\n",
    "visitors_b = 1050\n",
    "clicks_b = 180"
   ]
  },
  {
   "cell_type": "code",
   "execution_count": null,
   "id": "d0525eff",
   "metadata": {},
   "outputs": [],
   "source": [
    "# TODO\n",
    "# Insert your code HERE"
   ]
  },
  {
   "cell_type": "markdown",
   "id": "b007477e",
   "metadata": {},
   "source": [
    "📊 Perform A/B Test\n",
    "We’ll use a Chi-Square Test to compare proportions.\n",
    "\n",
    "- Hypotheses"
   ]
  },
  {
   "cell_type": "code",
   "execution_count": 1,
   "id": "7b10c736",
   "metadata": {},
   "outputs": [],
   "source": [
    "# Null Hypothesis (H₀): `#TODO`.\n",
    "# Alternative Hypothesis `#TODO`.\n"
   ]
  },
  {
   "cell_type": "markdown",
   "id": "6f94acbe",
   "metadata": {},
   "source": [
    "\n",
    "- Run the Test"
   ]
  },
  {
   "cell_type": "code",
   "execution_count": null,
   "id": "5b1fcda3",
   "metadata": {},
   "outputs": [],
   "source": [
    "# TODO\n",
    "# Insert your code HERE"
   ]
  },
  {
   "cell_type": "markdown",
   "id": "c52bcea2",
   "metadata": {},
   "source": [
    "> Interpret Results"
   ]
  },
  {
   "cell_type": "code",
   "execution_count": null,
   "id": "a2c7c16c",
   "metadata": {},
   "outputs": [],
   "source": [
    "# TODO\n",
    "# Insert your code HERE"
   ]
  },
  {
   "cell_type": "markdown",
   "id": "c925ed9f",
   "metadata": {},
   "source": [
    "📈 Visualization"
   ]
  },
  {
   "cell_type": "code",
   "execution_count": null,
   "id": "94ca3b5a",
   "metadata": {},
   "outputs": [],
   "source": [
    "# TODO\n",
    "# Insert your code HERE"
   ]
  },
  {
   "cell_type": "markdown",
   "id": "afdb44b2",
   "metadata": {},
   "source": [
    "## Challenge 2: 🚀 A/B Testing Challenge with Real Data"
   ]
  },
  {
   "cell_type": "markdown",
   "id": "67bd5560",
   "metadata": {},
   "source": [
    "#### **Objective**:  \n",
    "1. Analyze **real A/B test data** (from Kaggle) to compare conversion rates.  \n",
    "2. Use **bootstrapping** to estimate confidence intervals.  \n",
    "\n",
    "---\n",
    "\n",
    "#### 📌 **Project Overview**  \n",
    "We’ll:  \n",
    "1. **Load real A/B test data** (user sessions and conversions).  \n",
    "2. **Compare conversion rates** using statistical tests.  \n",
    "3. **Apply bootstrapping** to validate results.  \n",
    "\n"
   ]
  },
  {
   "cell_type": "markdown",
   "id": "ec536e52",
   "metadata": {},
   "source": [
    "### **Problem Statement**  \n",
    "Use the [Kaggle Marketing A/B Test dataset](https://www.kaggle.com/datasets/faviovaz/marketing-ab-testing) to analyze if a new marketing campaign (`Group B`) improves conversion rates over the old campaign (`Group A`).  \n",
    "\n",
    "### **Tasks**  \n",
    "1. **Data Preparation**:  \n",
    "   - Load the dataset and explore key metrics (sample sizes, conversion rates).  \n",
    "2. **Hypothesis Testing**:  \n",
    "   - Perform a **Statistical Test** to compare conversions between groups.  \n",
    "3. **Bootstrapping**:  \n",
    "   - Implement bootstrapping (`n=1000` resamples) to estimate 95% confidence intervals for conversion rates.  \n",
    "4. **Visualization**:  \n",
    "   -Compare conversion rates for both groups.  \n",
    "\n",
    "**Deliverables**:  \n",
    "- Code for analysis and bootstrapping.  \n",
    "- Answers:  \n",
    "  - P-value and statistical conclusion.  \n",
    "  - Confidence intervals for both groups.  "
   ]
  },
  {
   "cell_type": "markdown",
   "id": "812e92c7",
   "metadata": {},
   "source": [
    "#### 🛠 **Setup & Data Loading**  \n"
   ]
  },
  {
   "cell_type": "code",
   "execution_count": 2,
   "id": "a855dda5",
   "metadata": {},
   "outputs": [],
   "source": [
    "### Import Libraries"
   ]
  },
  {
   "cell_type": "markdown",
   "id": "55a40acd",
   "metadata": {},
   "source": [
    "> Load Open-Source Dataset\n",
    "We’ll use the [\"A/B Test Results\"](https://www.kaggle.com/datasets/faviovaz/marketing-ab-testing) dataset from Kaggle."
   ]
  },
  {
   "cell_type": "code",
   "execution_count": null,
   "id": "1824729f",
   "metadata": {},
   "outputs": [],
   "source": [
    "# Load data (ensure CSV is in your working directory)\n",
    "data = pd.read_csv(\"./data/marketing_AB.csv\")  # Download from Kaggle first!"
   ]
  },
  {
   "cell_type": "markdown",
   "id": "16057220",
   "metadata": {},
   "source": [
    "📊 Part 1: Traditional A/B Test\n",
    "> Calculate Conversion Rates"
   ]
  },
  {
   "cell_type": "code",
   "execution_count": null,
   "id": "56fab67b",
   "metadata": {},
   "outputs": [],
   "source": [
    "# TODO\n",
    "# Insert your code HERE"
   ]
  },
  {
   "cell_type": "markdown",
   "id": "a1321446",
   "metadata": {},
   "source": [
    "> Statistical Test"
   ]
  },
  {
   "cell_type": "code",
   "execution_count": null,
   "id": "decf60de",
   "metadata": {},
   "outputs": [],
   "source": [
    "# TODO\n",
    "# Insert your code HERE"
   ]
  },
  {
   "cell_type": "markdown",
   "id": "7dd2ccd0",
   "metadata": {},
   "source": [
    "#### EXTRA 📈 Part 2: Bootstrapping Challenge\n",
    "**Why Bootstrapping?**\n",
    " - Bootstrapping helps estimate confidence intervals for conversion rates by resampling data.\n",
    "\n",
    "> Bootstrap Function"
   ]
  },
  {
   "cell_type": "code",
   "execution_count": null,
   "id": "1ad5d36a",
   "metadata": {},
   "outputs": [],
   "source": [
    "# TODO\n",
    "# Insert your code HERE"
   ]
  },
  {
   "cell_type": "markdown",
   "id": "e9015c19",
   "metadata": {},
   "source": [
    ">Visualize Resultsm"
   ]
  },
  {
   "cell_type": "code",
   "execution_count": null,
   "id": "8a737b3f",
   "metadata": {},
   "outputs": [],
   "source": [
    "# TODO\n",
    "# Insert your code HERE"
   ]
  },
  {
   "cell_type": "markdown",
   "id": "f4e2aec7",
   "metadata": {},
   "source": [
    "## (Bonus) Challenge 3: 🎮 Advanced A/B Testing Challenge: Cookie Cats Retention Analysis "
   ]
  },
  {
   "cell_type": "markdown",
   "id": "aa0a8423",
   "metadata": {},
   "source": [
    "#### **Objective**:  \n",
    "1. Analyze player **retention rates** in the `cookie_cats` mobile game A/B test.  \n",
    "2. Implement **sequential testing** (to avoid peeking at results prematurely).  \n",
    "3. Conduct **power analysis** to determine optimal sample size.  \n",
    "\n",
    "### **Problem Statement**  \n",
    "Analyze the [Cookie Cats dataset](https://www.kaggle.com/datasets/yufengsui/mobile-games-ab-testing) to determine if moving the game’s first gate from level 30 (`gate_30`) to level 40 (`gate_40`) affects player retention.  \n",
    "\n",
    "### **Tasks**  \n",
    "1. **Retention Analysis**:  \n",
    "   - Compare **1-day retention rates** between `gate_30` and `gate_40` using a Z-test.  \n",
    "2. **Sequential Testing**:  \n",
    "   - Simulate checking results at intervals (every 500 users) to avoid \"peeking bias.\"  \n",
    "3. **Power Analysis**:  \n",
    "   - Calculate the required sample size to detect a 2% difference in retention (α = 0.05, power = 0.8).  \n",
    "4. **Optional**:  \n",
    "   - Repeat analysis for **7-day retention**.  \n",
    "\n",
    "**Deliverables**:  \n",
    "- Code for retention comparison, sequential testing, and power analysis.  \n",
    "- Written summary:  \n",
    "  - Does `gate_40` significantly impact retention?  \n",
    "  - How does sequential testing affect decision-making?  "
   ]
  },
  {
   "cell_type": "markdown",
   "id": "167d7506",
   "metadata": {},
   "source": [
    "\n",
    "\n",
    "### 🛠 **Setup & Data Loading**  \n"
   ]
  },
  {
   "cell_type": "code",
   "execution_count": null,
   "id": "204f33c6",
   "metadata": {},
   "outputs": [],
   "source": [
    "# Import Libraries"
   ]
  },
  {
   "cell_type": "code",
   "execution_count": null,
   "id": "9bf078ee",
   "metadata": {},
   "outputs": [],
   "source": [
    "# Load dataset \n",
    "data = pd.read_csv(\"./data/cookie_cats.csv\")  # Columns: userid, version, sum_gamerounds, retention_1, retention_7"
   ]
  },
  {
   "cell_type": "markdown",
   "id": "2ea7a8be",
   "metadata": {},
   "source": []
  },
  {
   "cell_type": "markdown",
   "id": "edcbe2d5",
   "metadata": {},
   "source": [
    "📊 Part 1: Retention Rate Analysis\n",
    "> Compare 1-Day Retention"
   ]
  },
  {
   "cell_type": "code",
   "execution_count": null,
   "id": "25577893",
   "metadata": {},
   "outputs": [],
   "source": [
    "# TODO\n",
    "# Insert your code HERE"
   ]
  },
  {
   "cell_type": "markdown",
   "id": "d60c1de3",
   "metadata": {},
   "source": [
    "> Statistical Test"
   ]
  },
  {
   "cell_type": "code",
   "execution_count": null,
   "id": "119db7c3",
   "metadata": {},
   "outputs": [],
   "source": [
    "# TODO\n",
    "# Insert your code HERE"
   ]
  },
  {
   "cell_type": "markdown",
   "id": "8033db00",
   "metadata": {},
   "source": []
  },
  {
   "cell_type": "markdown",
   "id": "4aad973a",
   "metadata": {},
   "source": [
    "📈 Part 2: Sequential Testing\n",
    ">  Why Sequential Testing?\n",
    "\n",
    "- Avoids \"peeking\" at results prematurely by checking at intervals."
   ]
  },
  {
   "cell_type": "code",
   "execution_count": null,
   "id": "04f99261",
   "metadata": {},
   "outputs": [],
   "source": [
    "# TODO\n",
    "# Insert your code HERE"
   ]
  },
  {
   "cell_type": "markdown",
   "id": "44abb17b",
   "metadata": {},
   "source": [
    "⚡ Part 3: Power Analysis\n",
    ">  Determine Required Sample Size"
   ]
  },
  {
   "cell_type": "code",
   "execution_count": null,
   "id": "7906bad8",
   "metadata": {},
   "outputs": [],
   "source": [
    "# TODO\n",
    "# Insert your code HERE"
   ]
  },
  {
   "cell_type": "markdown",
   "id": "f62d1be7",
   "metadata": {},
   "source": [
    "Enjoy & Happy A/B Testing :) ......!"
   ]
  },
  {
   "cell_type": "markdown",
   "id": "43332a5a",
   "metadata": {},
   "source": []
  },
  {
   "cell_type": "markdown",
   "id": "9bbc500f",
   "metadata": {},
   "source": []
  }
 ],
 "metadata": {
  "kernelspec": {
   "display_name": "Python 3",
   "language": "python",
   "name": "python3"
  },
  "language_info": {
   "codemirror_mode": {
    "name": "ipython",
    "version": 3
   },
   "file_extension": ".py",
   "mimetype": "text/x-python",
   "name": "python",
   "nbconvert_exporter": "python",
   "pygments_lexer": "ipython3",
   "version": "3.8.0"
  }
 },
 "nbformat": 4,
 "nbformat_minor": 5
}
